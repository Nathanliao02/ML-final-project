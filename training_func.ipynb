{
 "cells": [
  {
   "cell_type": "code",
   "execution_count": 2,
   "metadata": {},
   "outputs": [],
   "source": [
    "import matplotlib.pyplot as plt\n",
    "import numpy as np\n",
    "import pandas as pd\n",
    "import seaborn as sns"
   ]
  },
  {
   "cell_type": "code",
   "execution_count": 5,
   "metadata": {},
   "outputs": [],
   "source": [
    "from imblearn.over_sampling import SMOTE\n",
    "from sklearn.model_selection import GridSearchCV, StratifiedKFold, train_test_split\n",
    "from sklearn.metrics import accuracy_score, confusion_matrix, recall_score, roc_auc_score\n",
    "from sklearn.pipeline import Pipeline\n",
    "from sklearn.preprocessing import StandardScaler\n",
    "\n",
    "def train_and_tune_and_evaluate_model(X, y, model, param_grid, standardize=True, resample=True, scoring='recall', cv=5, random_state=42):\n",
    "    # Stratified split\n",
    "    X_train, X_test, y_train, y_test = train_test_split(X, y, test_size=0.2, random_state=random_state, stratify=y)\n",
    "\n",
    "    # Standardize features\n",
    "    if standardize:\n",
    "      scaler = StandardScaler()\n",
    "      X_train = scaler.fit_transform(X_train)\n",
    "      X_test = scaler.transform(X_test)\n",
    "\n",
    "    # Apply SMOTE to the scaled training data\n",
    "    if resample:\n",
    "        smote = SMOTE(random_state=random_state)\n",
    "        X_train, y_train = smote.fit_resample(X_train, y_train)\n",
    "\n",
    "    # Combine the model and scaler into a single pipeline\n",
    "    pipe = [('scaler', StandardScaler()), ('model', model)] if standardize else [('model', model)]\n",
    "    pipeline = Pipeline(pipe)\n",
    "\n",
    "    # Create the GridSearchCV object with StratifiedKFold\n",
    "    stratified_cv = StratifiedKFold(n_splits=cv, shuffle=True, random_state=random_state)\n",
    "    grid_search = GridSearchCV(estimator=pipeline, param_grid=param_grid, scoring=scoring, cv=stratified_cv)\n",
    "    grid_search.fit(X_train, y_train)\n",
    "\n",
    "    # Extracting the best estimator and parameters\n",
    "    best_model = grid_search.best_estimator_\n",
    "    best_params = grid_search.best_params_\n",
    "\n",
    "    # Evaluate on multiple metrics using the scaled test data\n",
    "    y_pred = best_model.predict(X_test)\n",
    "    y_scores = best_model.predict_proba(X_test)[:, 1]\n",
    "\n",
    "    scores = {\n",
    "        'accuracy': accuracy_score(y_test, y_pred),\n",
    "        'confusion_matrix': confusion_matrix(y_test, y_pred),\n",
    "        'recall': recall_score(y_test, y_pred),\n",
    "        'auc_roc': roc_auc_score(y_test, y_scores)\n",
    "    }\n",
    "\n",
    "    # Plotting the performance of various parameter combinations\n",
    "    results = pd.DataFrame(grid_search.cv_results_)\n",
    "    for param in param_grid:\n",
    "        plt.figure(figsize=(10, 6))\n",
    "        sns.lineplot(data=results, x=f'param_{param}', y='mean_test_score')\n",
    "        plt.title(f'Performance for different values of {param}')\n",
    "        plt.ylabel(scoring)\n",
    "        plt.xlabel(param)\n",
    "        plt.show()\n",
    "\n",
    "    print(\"Best Model:\", best_model)\n",
    "    print(\"Scores:\", scores)\n",
    "    print(\"Best Params:\", best_params)\n",
    "\n",
    "    return best_model, scores, best_params"
   ]
  },
  {
   "cell_type": "code",
   "execution_count": 6,
   "metadata": {},
   "outputs": [],
   "source": [
    "df = pd.read_csv('company_bankruptcy.csv')\n",
    "X = df.drop(['Bankrupt?'], axis=1)\n",
    "y = df['Bankrupt?']"
   ]
  },
  {
   "cell_type": "code",
   "execution_count": 8,
   "metadata": {},
   "outputs": [
    {
     "name": "stderr",
     "output_type": "stream",
     "text": [
      "/opt/anaconda3/lib/python3.11/site-packages/seaborn/_oldcore.py:1119: FutureWarning: use_inf_as_na option is deprecated and will be removed in a future version. Convert inf values to NaN before operating instead.\n",
      "  with pd.option_context('mode.use_inf_as_na', True):\n",
      "/opt/anaconda3/lib/python3.11/site-packages/seaborn/_oldcore.py:1119: FutureWarning: use_inf_as_na option is deprecated and will be removed in a future version. Convert inf values to NaN before operating instead.\n",
      "  with pd.option_context('mode.use_inf_as_na', True):\n"
     ]
    },
    {
     "data": {
      "image/png": "[encoded data removed]",
      "text/plain": [
       "<Figure size 1000x600 with 1 Axes>"
      ]
     },
     "metadata": {},
     "output_type": "display_data"
    },
    {
     "name": "stdout",
     "output_type": "stream",
     "text": [
      "Best Model: Pipeline(steps=[('scaler', StandardScaler()),\n",
      "                ('model', LogisticRegression(max_iter=1000))])\n",
      "Scores: {'accuracy': 0.8819648093841642, 'confusion_matrix': array([[1169,  151],\n",
      "       [  10,   34]]), 'recall': 0.7727272727272727, 'auc_roc': 0.8918732782369145}\n",
      "Best Params: {'model__max_iter': 1000}\n"
     ]
    }
   ],
   "source": [
    "# Logistic Regression\n",
    "from sklearn.linear_model import LogisticRegression\n",
    "\n",
    "param_grid_lr = {\n",
    "    'model__C': np.logspace(-4, 4, 20),\n",
    "    'model__solver': ['liblinear'],\n",
    "    'model__penalty': ['l1', 'l2', 'elasticnet', 'none'],\n",
    "    'model__class_weight': [None],\n",
    "    'model__max_iter': [1000]\n",
    "}\n",
    "\n",
    "best_model_lr, scores_lr, best_params_lr = train_and_tune_and_evaluate_model(X, y, LogisticRegression(), param_grid_lr)"
   ]
  }
 ],
 "metadata": {
  "kernelspec": {
   "display_name": "base",
   "language": "python",
   "name": "python3"
  },
  "language_info": {
   "codemirror_mode": {
    "name": "ipython",
    "version": 3
   },
   "file_extension": ".py",
   "mimetype": "text/x-python",
   "name": "python",
   "nbconvert_exporter": "python",
   "pygments_lexer": "ipython3",
   "version": "3.11.7"
  }
 },
 "nbformat": 4,
 "nbformat_minor": 2
}
